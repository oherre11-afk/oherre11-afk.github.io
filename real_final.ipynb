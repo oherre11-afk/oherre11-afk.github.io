{
 "cells": [
  {
   "cell_type": "markdown",
   "id": "abd178e9-48f1-4605-9960-0c914d23ac55",
   "metadata": {},
   "source": [
    "<h1> Analyzing Top Salaries in Computer Science: Who Earns the Most? </h1>\n",
    "    by Almamy Bah and Oscar Herrera\n",
    "    \n",
    "<h2> Introduction </h2> \n",
    "\n",
    "This project will walk you through the entire data science pipeline using a database of over 62,000 salary records from top companies. The dataset contains much valuable data such as base salary, total yearly compensation, education level, race, gender, location, etc. First, we will do data collection where we use pandas to import the database into Juypter notebook. Then, we will do some data curation to see which columns will be useful for our process and remove the unnecessary data. Also, we will see how to handle missing data. In this tutorial, we will take care of missing data imputation but more on that later. After all the data processing and cleaning, we will do some exploratory analysis of the data to outline the characteristics of this dataset. Finally, we will do hypothesis testing and machine learning to provide an analysis and interpretation of the data.\n",
    "\n",
    "<b>Motivation for the topic:</b>\n",
    "\n",
    "After graduating, a sizable percentage of undergraduate students join the workforce without having a basic understanding of the earning potential of their learned talents. This is especially true for those studying computer science who aren't sure what career path to take. It is crucial that these students have access to trustworthy information about the financial possibilities for various career pathways, including data science, cyber security, and software engineering, as compensation is one of the most crucial aspects in employment selection.\n",
    "By using the data science pipeline to examine the available data, our goal is to give computer science students the greatest financial options possible. Through an examination of average pay for various job titles, degrees of expertise, and organizations, we will look into how to maximize their earning potential. Furthermore, by investigating which states offer the best incomes for a certain degree, we will examine how geography influences income. We will also look at non-job-related variables like ethnicity, gender, and educational attainment that could have an ongoing impact on income.\n",
    "By providing comprehensive and accurate information, our aim is to assist computer science students in making informed decisions about their future career paths and maximizing their earning potential. Ultimately, we believe that this will help to create a more equitable and prosperous job market for all computer science graduates.\n",
    "\n",
    "<b> Before you start </b>\n",
    "\n",
    "Here are some links that may be useful before you dive into the project. \n",
    "<br>\n",
    "<a href=\"https://www.docker.com/products/docker-desktop/\"> Download Docker  </a> <br>\n",
    "<a href=\"https://www.youtube.com/watch?v=H9Iu49E6Mxs&t=2s&ab_channel=ColtSteele\"> Juypter Notebook in 10 minutes </a> <br>\n",
    "<a href=\"https://www.bls.gov/ooh/computer-and-information-technology/computer-and-information-research-scientists.htm#:~:text=in%20May%202021.-,Job%20Outlook,on%20average%2C%20over%20the%20decade.\"> U.S. BUREAU OF LABOR STATISTICS </a>\n",
    "\n"
   ]
  },
  {
   "attachments": {
    "87a39c2f-5511-492f-b969-8c4b185ed7ba.webp": {
     "image/webp": "[encoded data removed]"
    }
   },
   "cell_type": "markdown",
   "id": "2a1eaa90-deac-4d57-a4b7-877d3da77900",
   "metadata": {
    "tags": []
   },
   "source": [
    "<h1> Data Collection </h1>\n",
    "\n",
    "![1_MTWLp_V79poGSZ9W1bHGZA.webp](attachment:87a39c2f-5511-492f-b969-8c4b185ed7ba.webp)\n",
    "\n",
    "<b> What is data collection? </b>\n",
    "    \n",
    "<a href=\"https://ori.hhs.gov/education/products/n_illinois_u/datamanagement/dctopic.html#:~:text=Data%20Collection,test%20hypotheses%2C%20and%20evaluate%20outcomes.Data\"> \"Data collection </a> is the process of gathering and measuring information on variables of interest, in an established systematic fashion that enables one to answer stated research questions, test hypotheses, and evaluate outcomes.\"\n",
    "\n",
    "<b> What are different ways to collect data? </b>\n",
    "<ul>\n",
    "    <li> Direct download and load from local storage </li>\n",
    "    <li> Generate locally via downloaded code (e.g., simulation)</li>\n",
    "    <li> Query data from a database </li>\n",
    "    <li> Query an API from the intra/internet </li>\n",
    "    <li> Scrape data from a webpage</li>\n",
    "</ul>\n",
    "\n",
    "\n",
    "\n",
    "For this step, we obtained our data from a direct download and load from local storage. More specifically, we looked into a dataset from Kaggle related to Data Science and Stem Salaries. It contains more than 62,000 salary records from top companies. It contains useful data such as gender, race, level of experience, base salary etc., and we think this is enough for our tutorial. The data set can be found <a href= https://www.kaggle.com/datasets/jackogozaly/data-science-and-stem-salaries> here </a>.\n",
    "\n",
    "\n"
   ]
  },
  {
   "cell_type": "markdown",
   "id": "17dba0fd-0207-4275-a6e3-ebdc5ef638f2",
   "metadata": {},
   "source": [
    "First, we will import the libraries we will use for the project. All these libraries will be useful to us later on as well.\n",
    "\n",
    "<b> Note: run \"pip install missingno\" and \"pip install plotly\" in your docker container\n",
    "    before importing these libraries</b>"
   ]
  },
  {
   "cell_type": "code",
   "execution_count": null,
   "id": "c8621ed2-8d65-48a4-a929-5842ea4d5748",
   "metadata": {},
   "outputs": [],
   "source": [
    "!pip install missingno\n",
    "!pip install plotly"
   ]
  },
  {
   "cell_type": "code",
   "execution_count": null,
   "id": "4c8c1ea1-90ef-48e6-bdb1-0dbc9853b206",
   "metadata": {
    "tags": []
   },
   "outputs": [],
   "source": [
    "import pandas as pd\n",
    "import numpy as np\n",
    "import random\n",
    "import matplotlib.pyplot as plt\n",
    "import seaborn as sns\n",
    "import missingno as msno\n",
    "import plotly.express as px"
   ]
  },
  {
   "cell_type": "markdown",
   "id": "56011185-3231-43e7-a886-5b0fa4d05aa1",
   "metadata": {},
   "source": [
    "Then, we will use pandas to import the dataset from our file.\n",
    "\n",
    "Notice that the file name is \"final_data.csv\". We named the file this for convenience but the file name could be anything. Also, we could have used a URL to gather raw data instead of downloading the CSV file directly from the web. That just goes to show how many ways you can collect data to run an analysis. "
   ]
  },
  {
   "cell_type": "code",
   "execution_count": null,
   "id": "ffeb0f7a-adf0-4729-a8b1-b0d38fc9b094",
   "metadata": {},
   "outputs": [],
   "source": [
    "db = pd.read_csv(\"final_data.csv\")\n",
    "\n",
    "#Here head will just show us the first couple of rows in a presentable manner.\n",
    "db.head()"
   ]
  },
  {
   "cell_type": "markdown",
   "id": "1992bb22",
   "metadata": {},
   "source": [
    "<h2> Data Processing </h2>"
   ]
  },
  {
   "cell_type": "markdown",
   "id": "9137f671-80bc-4afa-a971-204e4768f46d",
   "metadata": {},
   "source": [
    "One thing to notice about our dataset is that there are a lot of columns that seem redundant.\n",
    "\n",
    "For example, instead of having a separate column for Doctorate_Degree, Highschool, Some_College, Bachelors, and Masters, we can just have one column named Education which can be used instead. We can do the same for the race column.\n",
    "\n"
   ]
  },
  {
   "cell_type": "code",
   "execution_count": null,
   "id": "e78a2519-f78f-4c59-ad9b-a7bcc742ac9d",
   "metadata": {},
   "outputs": [],
   "source": [
    "db = db.drop(\"Masters_Degree\", axis=1)\n",
    "db = db.drop(\"Bachelors_Degree\", axis=1)\n",
    "db = db.drop(\"Doctorate_Degree\", axis=1)\n",
    "db = db.drop(\"Highschool\", axis=1)\n",
    "db = db.drop(\"Some_College\", axis=1)\n",
    "db = db.drop(\"Race_Asian\", axis=1)\n",
    "db = db.drop(\"Race_White\", axis=1)\n",
    "db = db.drop(\"Race_Two_Or_More\", axis=1)\n",
    "db = db.drop(\"Race_Black\", axis=1)\n",
    "db = db.drop(\"Race_Hispanic\", axis=1)"
   ]
  },
  {
   "cell_type": "markdown",
   "id": "1fcd2e05-eb32-498d-a611-7a02504883a8",
   "metadata": {},
   "source": [
    "These remaining columns are also not useful for this project since we won't analyze this data. So, we will just drop these columns."
   ]
  },
  {
   "cell_type": "code",
   "execution_count": null,
   "id": "21e4a55f-ae5a-4abc-93e9-5b8a6458ff6d",
   "metadata": {},
   "outputs": [],
   "source": [
    "db = db.drop(\"yearsatcompany\", axis=1)\n",
    "db = db.drop(\"tag\", axis=1)\n",
    "db = db.drop(\"cityid\", axis=1)\n",
    "db = db.drop(\"otherdetails\", axis=1)\n",
    "db = db.drop(\"dmaid\", axis=1)\n",
    "db = db.drop(\"rowNumber\", axis=1)\n",
    "\n",
    "db.head()"
   ]
  },
  {
   "cell_type": "markdown",
   "id": "551cbe0f-926a-4c95-94a1-3b9fbf8372a9",
   "metadata": {},
   "source": [
    "<b> <u> This dataset is looking much better! </u> </b>"
   ]
  },
  {
   "cell_type": "markdown",
   "id": "13ab0dc7",
   "metadata": {},
   "source": [
    "We want an easy way to tell where the highest salaries are located by the state. Let's modify the location column to only include the abbreviation of the state in this column."
   ]
  },
  {
   "cell_type": "code",
   "execution_count": null,
   "id": "243b766f",
   "metadata": {},
   "outputs": [],
   "source": [
    "# First we modify the location column to contain only regions inside the United States.\n",
    "\n",
    "us_states = ['AL', 'AK', 'AZ', 'AR', 'CA', 'CO', 'CT', 'DE', 'FL', 'GA', 'HI', 'ID', 'IL', 'IN', 'IA', 'KS', 'KY', 'LA', 'ME', 'MD', 'MA', 'MI', 'MN', 'MS', 'MO', 'MT', 'NE', 'NV', 'NH', 'NJ', 'NM', 'NY', 'NC', 'ND', 'OH', 'OK', 'OR', 'PA', 'RI', 'SC', 'SD', 'TN', 'TX', 'UT', 'VT', 'VA', 'WA', 'WV', 'WI', 'WY']\n",
    "#us_data = df[df['location'].str[-2:].isin(us_states)]\n",
    "\n",
    "for index, row in db.iterrows():\n",
    "    if row['location'][-2:] in us_states:\n",
    "        db.loc[index,'location'] = row['location'][-2:]\n",
    "    else:\n",
    "        db.loc[index,'location'] = np.nan\n",
    "\n",
    "\n",
    "db.head()"
   ]
  },
  {
   "cell_type": "markdown",
   "id": "2785593e-5be6-4868-946c-544d074d0a9f",
   "metadata": {},
   "source": [
    "One thing to notice is how many NaN values we have for gender, race, and education. \n",
    "\n",
    "We will dive deeper into how to deal with this missing data."
   ]
  },
  {
   "cell_type": "code",
   "execution_count": null,
   "id": "afacf329-ee67-4421-8496-4b417ed2b4c9",
   "metadata": {},
   "outputs": [],
   "source": [
    "msno.matrix(db)\n",
    "plt.show()\n",
    "db.isna().sum()\n"
   ]
  },
  {
   "cell_type": "markdown",
   "id": "80674e71-faa2-4b7c-856d-2363570bf6c4",
   "metadata": {},
   "source": [
    "Here, we can use the missingno library to have a better visual representation where the data is null. As you can see, we have a decent amount of missing data. There are 19540 missing values for gender, 40215 values missing for race, and 32272 values missing for education. \n"
   ]
  },
  {
   "attachments": {
    "0d58a81a-60a3-4222-af9b-cf7ccf863c76.webp": {
     "image/webp": "[encoded data removed]"
    }
   },
   "cell_type": "markdown",
   "id": "d556ef40-e958-42e5-9fdd-2983a54d2eff",
   "metadata": {},
   "source": [
    "<b> Why do we care about missing data? </b>\n",
    "\n",
    "![Missingno.webp](attachment:0d58a81a-60a3-4222-af9b-cf7ccf863c76.webp)\n",
    "\n",
    "Getting rid of all the rows with missing information might bias our sample and lead to a variance larger than reflected by the size of our data. From our understanding, this data is not missing completely at random. Therefore we will fill it using the imputation technique.\n",
    "\n",
    "<b> What can we do about missing data? </b>\n",
    "\n",
    "As said before we could drop the missing rows from our dataset, but as we saw in the graphic there are a lot of missing values from different rows, and therefore it may not be the most optimal solution. The next option would be to do imputation. There are many different forms of imputation such as single imputation methods such as mean/mode/median imputation, and regression imputation, and there are also multiple imputation methods. In the case of our dataset, we will assign the missing values with random values. This method may not be the most optimal way to imputate this data set but the code will be easy to follow and you will have a better grasp on how to deal with missing data."
   ]
  },
  {
   "cell_type": "markdown",
   "id": "47ab256d-041a-407e-a451-39a4f962f545",
   "metadata": {},
   "source": [
    "<h3> Filling Gender Missing Values</h3>"
   ]
  },
  {
   "cell_type": "markdown",
   "id": "875ace4b-6c7f-4993-b2b9-c9f4fad2cdc4",
   "metadata": {},
   "source": [
    "Lets start by seeing all the different genders by using the unique function."
   ]
  },
  {
   "cell_type": "code",
   "execution_count": null,
   "id": "71a83f86-8881-4f6c-8864-204ee57f1ecf",
   "metadata": {},
   "outputs": [],
   "source": [
    "# Finding the different type of genre\n",
    "db['gender'].unique()\n"
   ]
  },
  {
   "cell_type": "markdown",
   "id": "a6db8297-93c5-44cf-ac0f-1246ea306821",
   "metadata": {},
   "source": [
    "'Senior software Engineer' should not be there, so we will remove that value and place a NaN value instead. Same with 'other' since we are not using that dataset for out illustrations. The logic here is simple. Find all the values in the gender column that are not 'male' or 'female' and replace them with nan values. This will come in handy when we do our imputation process."
   ]
  },
  {
   "cell_type": "code",
   "execution_count": null,
   "id": "1e1442e8",
   "metadata": {},
   "outputs": [],
   "source": [
    "# Replacing all non male/female gender by nan\n",
    "for index, row in db.iterrows():\n",
    "    \n",
    "    if(row['gender']!='Male' and row['gender']!='Female'):\n",
    "        \n",
    "        db.loc[index, 'gender']= np.nan\n",
    "        "
   ]
  },
  {
   "cell_type": "markdown",
   "id": "990b7e7d",
   "metadata": {},
   "source": [
    "<u> Keep in mind that there are many different ways to do these task.</u>"
   ]
  },
  {
   "cell_type": "markdown",
   "id": "236923d3",
   "metadata": {},
   "source": [
    "Next, let us take a look at the data in gender for the top salaries."
   ]
  },
  {
   "cell_type": "code",
   "execution_count": null,
   "id": "922b12ec",
   "metadata": {},
   "outputs": [],
   "source": [
    "db['gender'].value_counts()"
   ]
  },
  {
   "cell_type": "markdown",
   "id": "e17b75ff",
   "metadata": {},
   "source": [
    "Given this information, we can follow a similar trend for our imputation process. From the data available we can see that 84% of the genders are male and 16% are female. In python, we can use the 'random. choices' function in python to fill in our missing data. With this function the first parameter will be a list of all the genders we are using for this project. The second parameter will contain a list of all the weights for the genders in the first list. The weights will be given in order of the gender list."
   ]
  },
  {
   "cell_type": "code",
   "execution_count": null,
   "id": "0ece6597-8898-4f60-9d55-db654bcd13df",
   "metadata": {},
   "outputs": [],
   "source": [
    "# Total values: 42,701\n",
    "# Male: .84\n",
    "# Female: .16 \n",
    "\n",
    "weights = [84, 16]\n",
    "genders = ['Male', 'Female']\n",
    "\n",
    "db['gender'] = db['gender'].apply(lambda x: random.choices(genders, weights=weights)[0] if pd.isna(x) else x)\n",
    "\n",
    "db.head()"
   ]
  },
  {
   "cell_type": "markdown",
   "id": "aaf391bb",
   "metadata": {},
   "source": [
    "Now this dataset will have a more accurate representation of the data that was actually provided. Keep in mind that this method is not perfect and can produce biases in our dataset! But for the purposes of teaching you the data science pipeline, this method is easy to implement and demonstrate.\n",
    "\n",
    "A little bit more on impution and imputation tecniques: <br> <br>\n",
    "<a href= \"https://bookdown.org/mike/data_analysis/imputation-missing-data.html\"> Imputation (Missing Data) </a> <br>\n",
    "<a href=\"https://www.theanalysisfactor.com/seven-ways-to-make-up-data-common-methods-to-imputing-missing-data/#:~:text=Imputation%20simply%20means%20replacing%20the,values%20were%20actual%20observed%20values.\"> seven ways to make up data (Missing Data) </a> <br>\n",
    "<a href= \"https://www.frontiersin.org/articles/10.3389/fdata.2021.693674/full\"> A Benchmark for Data Imputation Methods </a>\n"
   ]
  },
  {
   "cell_type": "markdown",
   "id": "b2482f3c-0865-4e5c-9d80-25dfd97e2959",
   "metadata": {},
   "source": [
    "<h3> Filling Race Missing Values</h3>"
   ]
  },
  {
   "cell_type": "code",
   "execution_count": null,
   "id": "9fa32592-8e97-42b4-b4eb-1e5f2ba0bb24",
   "metadata": {},
   "outputs": [],
   "source": [
    "# Finding the different type of Race\n",
    "db['Race'].unique()"
   ]
  },
  {
   "cell_type": "code",
   "execution_count": null,
   "id": "c89ae1f4-4668-40a8-bcd3-7a21bf9b3804",
   "metadata": {},
   "outputs": [],
   "source": [
    "db['Race'].value_counts()\n"
   ]
  },
  {
   "cell_type": "code",
   "execution_count": null,
   "id": "dd33776f",
   "metadata": {},
   "outputs": [],
   "source": [
    "# Total values: 22,427 \n",
    "# Asian: .53\n",
    "# White: .37\n",
    "# Hispanic: .06\n",
    "# Black: .04\n",
    "\n",
    "for index, row in db.iterrows():\n",
    "    \n",
    "    if(row['Race'] == 'Two Or More'):\n",
    "        \n",
    "        db.loc[index, 'Race']= np.nan\n",
    "\n",
    "\n",
    "#Filling the Nan rows with a random race\n",
    "\n",
    "weights = [53, 37, 6, 4]\n",
    "races = ['Asian', 'White', 'Hispanic', 'Black']\n",
    "\n",
    "db['Race'] = db['Race'].apply(lambda x: random.choices(races, weights=weights)[0] if pd.isna(x) else x)\n",
    "\n",
    "db.head()"
   ]
  },
  {
   "cell_type": "markdown",
   "id": "96c7ef30-876e-46e9-bccc-14656302c6c0",
   "metadata": {},
   "source": [
    "<h3> Filling education Missing Values </h3>"
   ]
  },
  {
   "cell_type": "code",
   "execution_count": null,
   "id": "62d7ab31-416e-4401-a33c-71303423b62d",
   "metadata": {},
   "outputs": [],
   "source": [
    "db['Education'].unique()\n"
   ]
  },
  {
   "cell_type": "code",
   "execution_count": null,
   "id": "09dc9507-55f0-4a0c-86d1-c222e6018a51",
   "metadata": {},
   "outputs": [],
   "source": [
    "db['Education'].value_counts()"
   ]
  },
  {
   "cell_type": "markdown",
   "id": "826ad488",
   "metadata": {},
   "source": [
    "For education we won't drop any value so we'll just do our normal imputation process."
   ]
  },
  {
   "cell_type": "code",
   "execution_count": null,
   "id": "5c639e44",
   "metadata": {},
   "outputs": [],
   "source": [
    "# Total values: 30,370\n",
    "# Masters Degree 0.51\n",
    "# Bachelors Degree 0.41\n",
    "# PhD 0.06\n",
    "# Some College 0.01\n",
    "# Highschool 0.01\n",
    "\n",
    "weights = [51, 41, 6, 1, 1]\n",
    "choices = [\"Master's Degree\", \"Bachelor's Degree\", \"PhD\", \"Some College\", \"Highschool\"]\n",
    "\n",
    "db['Education'] = db['Education'].apply(lambda x: random.choices(choices, weights=weights)[0] if pd.isna(x) else x)\n"
   ]
  },
  {
   "cell_type": "code",
   "execution_count": null,
   "id": "cae86de9-0e18-4f50-a0df-73587e723266",
   "metadata": {},
   "outputs": [],
   "source": [
    "# Finding out how much Nan value left now\n",
    "db.isna().sum()"
   ]
  },
  {
   "cell_type": "markdown",
   "id": "95e40585-4aee-4ea2-909a-8349e5a2c815",
   "metadata": {},
   "source": [
    "Our dataset now has much less nan values. After all that processing some columns still have missing data, but the amount is insignificant and therefore there is no need to replace the missing data."
   ]
  },
  {
   "cell_type": "markdown",
   "id": "edcfc945-cc0e-4608-a436-ebd77523af6f",
   "metadata": {},
   "source": [
    "<h2> Exploratory analysis and Data visualization </h2>"
   ]
  },
  {
   "cell_type": "markdown",
   "id": "20e3dbc1-ac29-4431-b04f-1683804531df",
   "metadata": {},
   "source": [
    "This phase of our project process involves further exploration of the data through visualizations and statistical analyses. The goal is to gain a better understanding of the data by drawing plots, making maps, and using statistical data to identify any patterns or trends that may be useful for making interpretations. In other words, this process involves summarizing the dataset without making any assumptions. \n",
    "\n",
    "<a href='https://www.analyticsvidhya.com/blog/2021/08/exploratory-data-analysis-and-visualization-techniques-in-data-science/'> Exploratory Data Analysis and Visualization Techniques in Data Science </a>"
   ]
  },
  {
   "cell_type": "markdown",
   "id": "65efd23e-f7c9-404d-968f-45c05b72da25",
   "metadata": {},
   "source": [
    "<h3> Location </h3>"
   ]
  },
  {
   "cell_type": "markdown",
   "id": "affe1059-b524-4bd4-96ed-4e258e581c9b",
   "metadata": {},
   "source": [
    "Let us calculate the average salary per state and add that one new column to our dataset. This will be helpful when we create our map."
   ]
  },
  {
   "cell_type": "code",
   "execution_count": null,
   "id": "e97960cf-4419-4113-9f2f-9bab0d5e072e",
   "metadata": {},
   "outputs": [],
   "source": [
    "#gathering information on average salary per state.\n",
    "state_mean_salary = db.groupby('location')['totalyearlycompensation'].mean()\n",
    "\n",
    "#add a new column to out database where the new column contains the average salary per state\n",
    "db = pd.merge(db, state_mean_salary, how='left', left_on='location', right_on='location')\n",
    "db.rename(columns={'totalyearlycompensation_y': 'average_salary'}, inplace=True)\n",
    "\n",
    "db.head()\n"
   ]
  },
  {
   "cell_type": "markdown",
   "id": "3a9a5dc5",
   "metadata": {},
   "source": [
    "Now lets make our map of the US and highlight the average salary per state."
   ]
  },
  {
   "cell_type": "code",
   "execution_count": null,
   "id": "18ba25e1-421a-45ce-9aff-7bef845d7643",
   "metadata": {
    "tags": []
   },
   "outputs": [],
   "source": [
    "# Create a Choropleth map using Plotly\n",
    "!pip install -U kaleido\n",
    "\n",
    "fig = px.choropleth(db,\n",
    "                    locations='location',\n",
    "                    locationmode='USA-states',\n",
    "                    scope='usa',\n",
    "                    color='average_salary',\n",
    "                    title='Average Salaries by State',\n",
    "                    color_continuous_scale='Viridis',\n",
    "                    width=1000,\n",
    "                    height=500)\n",
    "\n",
    "\n",
    "# Display the HTML file in the notebook\n",
    "fig.show(renderer=\"png\", width=1000, height=500)"
   ]
  },
  {
   "cell_type": "markdown",
   "id": "8c3c6de9",
   "metadata": {},
   "source": [
    "From the graph, we can clearly see that CA has the highest average salary of all the states. Most of the highest average salaries seem to come from states that have the largest cities.\n"
   ]
  },
  {
   "cell_type": "markdown",
   "id": "ba535dd8-bb52-4e95-be0a-4dfc6ac2a941",
   "metadata": {},
   "source": [
    "Lets quantify another value from this dataset. The number of workers per state can let us known where there are the most CS jobs."
   ]
  },
  {
   "cell_type": "code",
   "execution_count": null,
   "id": "01986598-3777-49c8-a617-1548fdcdffff",
   "metadata": {},
   "outputs": [],
   "source": [
    "plt.figure(figsize=(10,8))\n",
    "db[\"location\"].value_counts().iloc[:15].plot(kind=\"bar\", color=\"green\")\n",
    "plt.title(\"Amount of workers per State\", size=17)\n",
    "plt.xlabel(\"States\", size=23)\n",
    "plt.ylabel(\"Amount of Workers\", size=23)\n",
    "plt.xticks(rotation=90)\n",
    "plt.show()\n"
   ]
  },
  {
   "cell_type": "markdown",
   "id": "77a434ac-d26f-476e-9a87-42f95ad24b92",
   "metadata": {},
   "source": [
    "From these 2 visualizations, it is safe to say that California and Washington have the highest salaries and provided the most jobs. The other states in this chart are very far apart from the top average salary (CA)."
   ]
  },
  {
   "cell_type": "markdown",
   "id": "b0483f5a-5222-4128-ade3-360129d24ffc",
   "metadata": {},
   "source": [
    "<h3>Education</h3>\n"
   ]
  },
  {
   "cell_type": "code",
   "execution_count": null,
   "id": "f24f6ff4-6bf1-4a60-bc77-e013bd643224",
   "metadata": {},
   "outputs": [],
   "source": [
    "plt.figure(figsize=(12,10))\n",
    "sns.barplot(x=\"Education\", y=\"totalyearlycompensation_x\", data=db, errorbar=None)\n",
    "plt.title('Salary per education level', fontsize=30)\n",
    "plt.xlabel(\"Education\", size=20)\n",
    "plt.ylabel(\"Salary\", size=23)\n",
    "plt.show()\n",
    "\n"
   ]
  },
  {
   "cell_type": "markdown",
   "id": "ee695ddc-0a71-4cc3-a771-0b44439b2f63",
   "metadata": {},
   "source": [
    "The plot shows that Ph.D. and Master's degree holders earn the highest salaries, which is expected given the amount of education required to obtain those degrees. Surprisingly, those who fall under the 'some college' on average earn more than those with bachelor's degrees. "
   ]
  },
  {
   "cell_type": "code",
   "execution_count": null,
   "id": "a74e074b",
   "metadata": {},
   "outputs": [],
   "source": [
    "column_data = db['Education']\n",
    "category_counts = column_data.value_counts()\n",
    "\n",
    "plt.pie(category_counts, labels=category_counts.index, autopct='%1.1f%%')\n",
    "plt.title('Pie Chart of Education levels')\n",
    "plt.axis('equal')\n",
    "plt.show()"
   ]
  },
  {
   "cell_type": "markdown",
   "id": "4d4843b0",
   "metadata": {},
   "source": [
    "While those who fall under 'some college' and 'high school' on average earn more than those with bachelor's they are also much rarer on this list. 'Some college' and 'high school' account for less than 3 percent on this list. While having a Master's or a Bachelor's makes it much more likely for you to be a top earner."
   ]
  },
  {
   "cell_type": "markdown",
   "id": "01c20e12-11a0-417e-8884-850950d8c6a8",
   "metadata": {},
   "source": [
    "<h3>Race</h3>\n"
   ]
  },
  {
   "cell_type": "code",
   "execution_count": null,
   "id": "6abc3a9a-456e-48a3-b751-7daeadce881c",
   "metadata": {},
   "outputs": [],
   "source": [
    "plt.figure(figsize=(12,10))\n",
    "sns.barplot(x=\"Race\", y=\"totalyearlycompensation_x\", data=db, errorbar=None)\n",
    "plt.title('Salary according to race', fontsize=30)\n",
    "plt.xlabel(\"Race\", size=20)\n",
    "plt.ylabel(\"Salary\", size=30)\n",
    "plt.show()"
   ]
  },
  {
   "cell_type": "markdown",
   "id": "8ae7535a",
   "metadata": {},
   "source": [
    "It seems that that whites are getting paid slightly higher than Asians, Hispanics, and Blacks. All other races earn around the same."
   ]
  },
  {
   "cell_type": "code",
   "execution_count": null,
   "id": "a2419711",
   "metadata": {},
   "outputs": [],
   "source": [
    "column_data = db['Race']\n",
    "category_counts = column_data.value_counts()\n",
    "\n",
    "plt.pie(category_counts, labels=category_counts.index, autopct='%1.1f%%')\n",
    "plt.title('Pie Chart of Education levels')\n",
    "plt.axis('equal')\n",
    "plt.show()"
   ]
  },
  {
   "cell_type": "markdown",
   "id": "a55eb365-c5c6-445f-a051-c679d645ea7d",
   "metadata": {},
   "source": [
    "Using the pie chart we can see that while asians are the ones most likely to hold these top salaries, on average they are getting paid less than those who are white."
   ]
  },
  {
   "cell_type": "markdown",
   "id": "de968878-44a4-47c0-8163-cc88ec4d0f4d",
   "metadata": {},
   "source": [
    "<h3>Gender</h3>\n"
   ]
  },
  {
   "cell_type": "code",
   "execution_count": null,
   "id": "4aebf051-341a-4e92-9999-8a03d3b1de64",
   "metadata": {},
   "outputs": [],
   "source": [
    "plt.figure(figsize=(12,10))\n",
    "sns.barplot(x=\"gender\", y=\"totalyearlycompensation_x\", data=db, errorbar=None)\n",
    "plt.title('Salary according to gender', fontsize=30)\n",
    "plt.xlabel(\"Gender\", size=20)\n",
    "plt.ylabel(\"Salary\", size=23)\n",
    "\n",
    "plt.yticks(range(0, 300000, 100000))\n",
    "\n",
    "plt.show()"
   ]
  },
  {
   "cell_type": "code",
   "execution_count": null,
   "id": "0350dff6-7161-448d-a05d-8fd76338bf6b",
   "metadata": {},
   "outputs": [],
   "source": [
    "column_data = db['gender']\n",
    "category_counts = column_data.value_counts()\n",
    "\n",
    "plt.pie(category_counts, labels=category_counts.index, autopct='%1.1f%%')\n",
    "plt.title('Pie Chart of Gender')\n",
    "plt.axis('equal')\n",
    "plt.show()"
   ]
  },
  {
   "cell_type": "code",
   "execution_count": null,
   "id": "5acb292a-8832-41b0-943f-dd7d4654a7b1",
   "metadata": {},
   "outputs": [],
   "source": [
    "db[\"timestamp\"] = pd.to_datetime(db[\"timestamp\"]).dt.date\n",
    "db[\"year\"] = pd.DatetimeIndex(db['timestamp']).year\n",
    "db[\"year\"].value_counts()\n",
    "px.histogram(db, x = \"year\", color = \"gender\" ,barmode = \"group\",title=\"Amount of Worker per Gender\"\n",
    "            ,labels = {\"year\":\"Year\",\"gender\":\"Gender\"})\n"
   ]
  },
  {
   "cell_type": "markdown",
   "id": "3a53b10e",
   "metadata": {},
   "source": [
    "Women are getting on average paid less than men according to the graph. We can also see the number of female workers rising. Not only is there a pay discrepancy but it seems that the computer science field is male oriented. The pay gap is something that has long been debated and is worth looking into."
   ]
  },
  {
   "cell_type": "code",
   "execution_count": null,
   "id": "5e7ddf76-247e-4da7-805a-6cc4ecec3e5f",
   "metadata": {},
   "outputs": [],
   "source": [
    "db.corr()\n"
   ]
  },
  {
   "cell_type": "markdown",
   "id": "6c66b345",
   "metadata": {},
   "source": [
    "According to this chart, we can see a strong correlation between stockgrantvalue and total yearly compensation. There is also a strong correlation between base salary and total yearly compensation which is to be expected. The interesting thing to note here is that there is only a moderate correlation between years of experience and total yearly compensation. That means that many years at a company do not correlate to a higher salary."
   ]
  },
  {
   "cell_type": "markdown",
   "id": "ced5dc5c",
   "metadata": {},
   "source": [
    "<h2> Hypothesis Testing, & Machine Learning </h2>"
   ]
  },
  {
   "cell_type": "markdown",
   "id": "2b0946ca",
   "metadata": {},
   "source": [
    "In this step, we will be making assumptions regarding a population parameter and create models to either prove or disprove our hypothesis. \n",
    "\n",
    "We want to determine if there is a significant difference in the salaries between those who have a Master's degree versus those with a Bachelor's degree. Our null hypothesis is that there is no significant difference in salaries between people who have a Master's degree and those who have a Bachelor's degree. The alternative hypothesis is that there is a significant difference in salaries between them.\n",
    "\n",
    "First, we will find the t-statistic, which is a measure of the difference between two groups' means relative to the variation within the group, and the p-value, which is a probability value that measures the evidence against the null hypothesis."
   ]
  },
  {
   "cell_type": "code",
   "execution_count": null,
   "id": "482994f1",
   "metadata": {},
   "outputs": [],
   "source": [
    "from scipy import stats\n",
    "#Getting the rows containing people with Master and Bachelor degrees\n",
    "master=db[db['Education'] =='Master\\'s Degree']\n",
    "bachelor=db[db['Education'] =='Bachelor\\'s Degree']\n",
    "\n",
    "# Computing the mean salary for each group\n",
    "mean_master = master['totalyearlycompensation_x'].mean()\n",
    "mean_bachelor= bachelor['totalyearlycompensation_x'].mean()\n",
    "\n",
    "# Compute the variance and sample size for each group\n",
    "var_master=master['totalyearlycompensation_x'].var()\n",
    "size_master=master['totalyearlycompensation_x'].count()\n",
    "\n",
    "var_bachelor=bachelor['totalyearlycompensation_x'].var()\n",
    "size_bachelor=bachelor['totalyearlycompensation_x'].count()\n",
    "\n",
    "# Find the t-statistic\n",
    "t= (mean_master - mean_bachelor)/((var_master/size_master) +(var_bachelor/ size_bachelor)) **0.5\n",
    "\n",
    "# Finding the degree of freedon\n",
    "df=size_master + size_bachelor -2\n",
    "\n",
    "# Calculate the p-value\n",
    "p_value= stats.t.sf(abs(t), df) *2\n",
    "\n",
    "\n",
    "print('Average Master Salary:', mean_master)\n",
    "print('Average Bachelor Salary:', mean_bachelor)\n",
    "print('Variance Master :', var_master)\n",
    "print('Variance Bachelor Salary:', var_bachelor)\n",
    "print('Number of Master holder:', size_master)\n",
    "print('Number of Bachelor holder:', size_bachelor)\n",
    "print('T-statistic is:', t)\n",
    "print('The p_value is:', p_value)"
   ]
  },
  {
   "cell_type": "markdown",
   "id": "30f2633a",
   "metadata": {},
   "source": [
    "Introduction\n",
    "This project will walk you through the entire data science pipeline using a database of over 62,000 salary records from top companies. The dataset contains much valuable data such as base salary, total yearly compensation, education level, race, gender, location, etc. First, we will do data collection where we use pandas to import the database into Juypter notebook. Then, we will do some data curation to see which columns will be useful for our process and remove the unnecessary data. Also, we will see how to handle missing data. In this tutorial, we will take care of missing data imputation but more on that later. After all the data processing and cleaning, we will do some exploratory analysis of the data to outline the characteristics of this dataset. Finally, we will do hypothesis testing and machine learning to provide an analysis and interpretation of the data.\n",
    "\n",
    "Motivation for the topic:\n",
    "\n",
    "After graduating, a sizable percentage of undergraduate students join the workforce without having a basic understanding of the earning potential of their learned talents. This is especially true for those studying computer science who aren't sure what career path to take. It is crucial that these students have access to trustworthy information about the financial possibilities for various career pathways, including data science, cyber security, and software engineering, as compensation is one of the most crucial aspects in employment selection. By using the data science pipeline to examine the available data, our goal is to give computer science students the greatest financial options possible. Through an examination of average pay for various job titles, degrees of expertise, and organizations, we will look into how to maximize their earning potential. Furthermore, by investigating which states offer the best incomes for a certain degree, we will examine how geography influences income. We will also look at non-job-related variables like ethnicity, gender, and educational attainment that could have an ongoing impact on income. By providing comprehensive and accurate information, our aim is to assist computer science students in making informed decisions about their future career paths and maximizing their earning potential. Ultimately, we believe that this will help to create a more equitable and prosperous job market for all computer science graduates.\n",
    "\n",
    "Based on the results, we can conclude that there is a significant difference in the average salary between a Master's degree holders and Bachelor's degree holders in the given dataset. The t-statistic is 21.60 and the p-value is 6.70e-103, which is much lower than the significance level of 0.05. This means that we can reject the null hypothesis that there is no significant difference in the average salary between the two groups, and we can conclude that there is a significant difference in the average salary between the two groups. Furthermore, the average salary for Master's degree holders is higher than that of Bachelor's degree holders in the given dataset."
   ]
  },
  {
   "cell_type": "markdown",
   "id": "3e2760a7",
   "metadata": {},
   "source": [
    "<h2> Machine Learning </h2>\n",
    "\n",
    "Here, we will use machine learning algorithms more specifically linear regression to predict the salary of software engineer salary based on their years of experience. Linear regression is a machine learning algorithm that tries to find a linear relationship between the input features and the target variable. In our case, the input feature is years of experience and the target variable is salary.\n",
    "\n",
    "First, let's preprocess the data"
   ]
  },
  {
   "cell_type": "code",
   "execution_count": null,
   "id": "01422f5f",
   "metadata": {},
   "outputs": [],
   "source": [
    "# filter the dataset for software engineer job titles\n",
    "db_sw= db[db['title'] == 'Software Engineer']\n",
    "\n",
    "# Only keeping columns that we will use for the algorithm\n",
    "db_sw= db_sw[['yearsofexperience','totalyearlycompensation_x']]\n",
    "\n",
    "db['title'].unique()"
   ]
  },
  {
   "cell_type": "markdown",
   "id": "5eaeba34",
   "metadata": {},
   "source": [
    "Next, we need to split the data into training and testing set."
   ]
  },
  {
   "cell_type": "code",
   "execution_count": null,
   "id": "85ff2ba9",
   "metadata": {},
   "outputs": [],
   "source": [
    "from sklearn.model_selection import train_test_split\n",
    "\n",
    "X = db_sw[['yearsofexperience']]\n",
    "y= db_sw['totalyearlycompensation_x']\n",
    "\n",
    "# calling the function that split the data\n",
    "X_train, X_test, y_train, y_test = train_test_split(X, y, test_size=0.3, random_state=42)"
   ]
  },
  {
   "cell_type": "markdown",
   "id": "d20ee5c3",
   "metadata": {},
   "source": [
    "Scaling the data"
   ]
  },
  {
   "cell_type": "code",
   "execution_count": null,
   "id": "66d506a2",
   "metadata": {},
   "outputs": [],
   "source": [
    "from sklearn.preprocessing import RobustScaler\n",
    "\n",
    "scaler = RobustScaler()\n",
    "Xtrain = scaler.fit_transform(X_train)\n",
    "X_test= scaler.fit_transform(X_test)"
   ]
  },
  {
   "cell_type": "code",
   "execution_count": null,
   "id": "7e6096c1-488a-4b4e-bbdc-35cb23c399c9",
   "metadata": {},
   "outputs": [],
   "source": [
    "After that, we are going to train the linear regression model on the training data"
   ]
  },
  {
   "cell_type": "code",
   "execution_count": null,
   "id": "0ed30a20-5adc-47ba-aea1-c3580edae514",
   "metadata": {},
   "outputs": [],
   "source": [
    "from sklearn.linear_model import LinearRegression\n",
    "model = LinearRegression()\n",
    "model.fit(X_train, y_train)\n",
    "model.score(X_train, y_train)\n",
    "\n",
    "y_pred = model.predict(X_test)"
   ]
  },
  {
   "cell_type": "code",
   "execution_count": null,
   "id": "ea6f5043-325f-4ce1-841b-0d05bb21f200",
   "metadata": {},
   "outputs": [],
   "source": [
    "# Predict the salaries for the testing data\n",
    "y_pred = model.predict(X_test)\n",
    "\n",
    "df_1 = pd.DataFrame({\"Y_test\": y_test , \"Y_pred\" : y_pred})\n",
    "df_1"
   ]
  },
  {
   "cell_type": "markdown",
   "id": "ca612f44",
   "metadata": {},
   "source": [
    "Finally, we can evaluate the model on our testing data.\n",
    "\n"
   ]
  },
  {
   "cell_type": "code",
   "execution_count": null,
   "id": "38a2b42d",
   "metadata": {},
   "outputs": [],
   "source": [
    "import pandas as pd\n",
    "import numpy as np\n",
    "from sklearn.linear_model import LinearRegression\n",
    "from sklearn.model_selection import train_test_split\n",
    "from sklearn.metrics import mean_squared_error, r2_score\n",
    "\n",
    "X = db['yearsofexperience'].values.reshape(-1,1)\n",
    "y = db['totalyearlycompensation_x'].values.reshape(-1,1)\n",
    "\n",
    "X_train, X_test, y_train, y_test = train_test_split(X, y, test_size=0.2, random_state=0)\n",
    "\n",
    "regressor = LinearRegression()\n",
    "regressor.fit(X_train, y_train)\n",
    "\n",
    "y_pred = regressor.predict(X_test)\n",
    "\n",
    "mse = mean_squared_error(y_test, y_pred)\n",
    "r2 = r2_score(y_test, y_pred)\n",
    "\n",
    "print('Mean Squared Error:', mse)\n",
    "print('R^2 Score:', r2)"
   ]
  },
  {
   "cell_type": "markdown",
   "id": "b4a41de7",
   "metadata": {},
   "source": [
    "The Mean Squared Error (MSE) measures the average squared difference between the predicted and actual values. In this case, the MSE is 16250301297.700195, which means that on average, the predicted salary is off by about $127,496 from the actual salary.\n",
    "\n",
    "The R^2 score measures the proportion of the variance in the dependent variable (salary) that is predictable from the independent variable (years of experience). In this case, the R^2 score is 0.18440726892640957, which means that only about 18% of the variability in salaries can be explained by years of experience.\n"
   ]
  },
  {
   "cell_type": "markdown",
   "id": "4bb6a49b-4847-4d88-aaab-75266ba356f7",
   "metadata": {},
   "source": [
    "<h2> Final Thoughts </h2>\n",
    "Through our analysis and modeling of the data, we have found that the number of years of experience in a company does not necessarily translate to higher earnings. This could explain the trend of recent graduates frequently changing jobs in pursuit of better salaries. Additionally, our examination of the dataset has revealed a significant issue with gender and ethnic diversity in higher-paying positions. The dataset confirmed a commonly held belief that those who earn the highest salaries are predominantly white males. Conducting a larger sample of various salary data could be beneficial in addressing these concerns. Conducting a more extensive sample on various salary data could help us gain a better understanding of the root cause of this concerning issue. However, the power of data science lies in its ability to explore complex topics and provide insights that drive informed actions in the future. Therefore, we must continue to investigate and address the underlying causes of these trends to create a more equitable and inclusive workplace for all."
   ]
  }
 ],
 "metadata": {
  "kernelspec": {
   "display_name": "Python 3 (ipykernel)",
   "language": "python",
   "name": "python3"
  },
  "language_info": {
   "codemirror_mode": {
    "name": "ipython",
    "version": 3
   },
   "file_extension": ".py",
   "mimetype": "text/x-python",
   "name": "python",
   "nbconvert_exporter": "python",
   "pygments_lexer": "ipython3",
   "version": "3.10.8"
  }
 },
 "nbformat": 4,
 "nbformat_minor": 5
}
